{
 "cells": [
  {
   "cell_type": "code",
   "execution_count": 1,
   "id": "c47d2e5d",
   "metadata": {},
   "outputs": [
    {
     "name": "stdout",
     "output_type": "stream",
     "text": [
      "🔐 Password Generator 🔐\n",
      "\n",
      "Generated Password:  DWi9t\n"
     ]
    }
   ],
   "source": [
    "import random\n",
    "import string\n",
    "\n",
    "def generate_password(length, complexity):\n",
    "    # Define character sets\n",
    "    lowercase_letters = string.ascii_lowercase\n",
    "    uppercase_letters = string.ascii_uppercase\n",
    "    digits = string.digits\n",
    "    symbols = string.punctuation\n",
    "\n",
    "    # Build character pool based on complexity\n",
    "    if complexity == 'low':\n",
    "        char_pool = lowercase_letters\n",
    "    elif complexity == 'medium':\n",
    "        char_pool = lowercase_letters + uppercase_letters + digits\n",
    "    elif complexity == 'high':\n",
    "        char_pool = lowercase_letters + uppercase_letters + digits + symbols\n",
    "    else:\n",
    "        print(\"Invalid complexity level. Choose low, medium, or high.\")\n",
    "        return None\n",
    "\n",
    "    # Check if length is valid\n",
    "    if length <= 0:\n",
    "        print(\"Password length must be greater than 0.\")\n",
    "        return None\n",
    "\n",
    "    # Generate password\n",
    "    password = ''.join(random.choice(char_pool) for _ in range(length))\n",
    "    return password\n",
    "\n",
    "def main():\n",
    "    print(\"🔐 Password Generator 🔐\")\n",
    "    try:\n",
    "        length = int(input(\"Enter desired password length: \"))\n",
    "        complexity = input(\"Choose complexity (low, medium, high): \").lower()\n",
    "\n",
    "        password = generate_password(length, complexity)\n",
    "\n",
    "        if password:\n",
    "            print(\"\\nGenerated Password: \", password)\n",
    "    except ValueError:\n",
    "        print(\"Please enter a valid number for length.\")\n",
    "\n",
    "if __name__ == \"__main__\":\n",
    "    main()\n"
   ]
  }
 ],
 "metadata": {
  "kernelspec": {
   "display_name": "Python 3",
   "language": "python",
   "name": "python3"
  },
  "language_info": {
   "codemirror_mode": {
    "name": "ipython",
    "version": 3
   },
   "file_extension": ".py",
   "mimetype": "text/x-python",
   "name": "python",
   "nbconvert_exporter": "python",
   "pygments_lexer": "ipython3",
   "version": "3.12.0"
  }
 },
 "nbformat": 4,
 "nbformat_minor": 5
}
