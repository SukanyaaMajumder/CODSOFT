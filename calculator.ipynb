{
 "cells": [
  {
   "cell_type": "code",
   "execution_count": 1,
   "id": "5a504c21",
   "metadata": {},
   "outputs": [
    {
     "name": "stdout",
     "output_type": "stream",
     "text": [
      "🧮 Simple Calculator\n",
      "Result: 5.0 + 5.0 = 10.0\n"
     ]
    }
   ],
   "source": [
    "\n",
    "def calculator():\n",
    "    print(\"🧮 Simple Calculator\")\n",
    "    \n",
    "    # Get first number\n",
    "    try:\n",
    "        num1 = float(input(\"Enter the first number: \"))\n",
    "    except ValueError:\n",
    "        print(\"Invalid input. Please enter a number.\")\n",
    "        return\n",
    "\n",
    "    # Get operation\n",
    "    operation = input(\"Choose operation (+, -, *, /): \")\n",
    "\n",
    "    # Get second number\n",
    "    try:\n",
    "        num2 = float(input(\"Enter the second number: \"))\n",
    "    except ValueError:\n",
    "        print(\"Invalid input. Please enter a number.\")\n",
    "        return\n",
    "\n",
    "    # Perform calculation\n",
    "    if operation == '+':\n",
    "        result = num1 + num2\n",
    "        print(f\"Result: {num1} + {num2} = {result}\")\n",
    "    elif operation == '-':\n",
    "        result = num1 - num2\n",
    "        print(f\"Result: {num1} - {num2} = {result}\")\n",
    "    elif operation == '*':\n",
    "        result = num1 * num2\n",
    "        print(f\"Result: {num1} * {num2} = {result}\")\n",
    "    elif operation == '/':\n",
    "        if num2 == 0:\n",
    "            print(\"Error: Division by zero is not allowed.\")\n",
    "        else:\n",
    "            result = num1 / num2\n",
    "            print(f\"Result: {num1} / {num2} = {result}\")\n",
    "    else:\n",
    "        print(\"Invalid operation. Please choose +, -, *, or /.\")\n",
    "\n",
    "if __name__ == \"__main__\":\n",
    "    calculator()\n"
   ]
  }
 ],
 "metadata": {
  "kernelspec": {
   "display_name": "Python 3",
   "language": "python",
   "name": "python3"
  },
  "language_info": {
   "codemirror_mode": {
    "name": "ipython",
    "version": 3
   },
   "file_extension": ".py",
   "mimetype": "text/x-python",
   "name": "python",
   "nbconvert_exporter": "python",
   "pygments_lexer": "ipython3",
   "version": "3.12.0"
  }
 },
 "nbformat": 4,
 "nbformat_minor": 5
}
